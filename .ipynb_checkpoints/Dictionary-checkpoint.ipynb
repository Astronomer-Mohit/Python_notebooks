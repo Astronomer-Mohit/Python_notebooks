{
 "cells": [
  {
   "cell_type": "markdown",
   "metadata": {},
   "source": [
    "# Dictionary in Python\n"
   ]
  },
  {
   "cell_type": "markdown",
   "metadata": {},
   "source": [
    "Dictionary syntax works on a key-value pair or together called an item. Key is like an index of a list but here,\n",
    "it can be anything instead of only integers in the case of list."
   ]
  },
  {
   "cell_type": "markdown",
   "metadata": {},
   "source": [
    "So, there are two ways of defining a dictionary.\n",
    "1. Using function dict()"
   ]
  },
  {
   "cell_type": "code",
   "execution_count": 1,
   "metadata": {},
   "outputs": [
    {
     "name": "stdout",
     "output_type": "stream",
     "text": [
      "<type 'dict'>\n"
     ]
    }
   ],
   "source": [
    "D = dict()\n",
    "print type(D)"
   ]
  },
  {
   "cell_type": "markdown",
   "metadata": {},
   "source": [
    "2. Using key-value pair seperated by colon and each item, by comma. Note that we must define the key-value pair in curly brackets. Empty dictionary is represented by emply curly brackets."
   ]
  },
  {
   "cell_type": "code",
   "execution_count": 2,
   "metadata": {},
   "outputs": [
    {
     "name": "stdout",
     "output_type": "stream",
     "text": [
      "<type 'dict'>\n"
     ]
    }
   ],
   "source": [
    "D = {'one':1,'two':2}\n",
    "print type(D)"
   ]
  },
  {
   "cell_type": "markdown",
   "metadata": {},
   "source": [
    "In dictionary, order is unpredictable. Now let's see how we can call the value(s)/key(s) of a dictionary and to check if that key/value exit, I can use in operator. Another interesting point, search in dictionary is much more efficient than list as it use hash table. So, the time taken in serach process is independent of dictionary's length.    "
   ]
  },
  {
   "cell_type": "code",
   "execution_count": 11,
   "metadata": {},
   "outputs": [
    {
     "name": "stdout",
     "output_type": "stream",
     "text": [
      "{'four': 4, 'three': 3, 'two': 2, 'one': 1}\n",
      "['four', 'three', 'two', 'one']\n",
      "True\n",
      "[4, 3, 2, 1]\n",
      "True\n"
     ]
    }
   ],
   "source": [
    "D = {'one':1,'two':2,'three':3,'four':4}\n",
    "print D\n",
    "print D.keys()\n",
    "print 'two' in D\n",
    "values = D.values()\n",
    "print values\n",
    "print 1 in values"
   ]
  },
  {
   "cell_type": "markdown",
   "metadata": {},
   "source": [
    "Problem: Write a program that reads the words in Pulsar.txt and stores them as keys in a dictionary. Also, the values of those keys should the number of time the key occurs in the text. Finally print the dictionary with values. "
   ]
  },
  {
   "cell_type": "code",
   "execution_count": 34,
   "metadata": {},
   "outputs": [],
   "source": [
    "hd = open('Pulsar.txt','r')"
   ]
  },
  {
   "cell_type": "code",
   "execution_count": 37,
   "metadata": {},
   "outputs": [],
   "source": [
    "D = dict()\n",
    "w = 0\n",
    "def dic(k):\n",
    "       if k not in D:\n",
    "           D[k] = 1\n",
    "       else:\n",
    "           D[k]+=1\n",
    "for line in hd.readlines():\n",
    "    if w < 2:\n",
    "        for k in line.split('.'):\n",
    "            for s in k.split(' '):\n",
    "                print s\n",
    "    w+=1\n",
    "        "
   ]
  },
  {
   "cell_type": "markdown",
   "metadata": {},
   "source": [
    "get method : get function takes the key and a default value. If the key appears in the dictionary, get return the corresponding value otherwise, it returns the default value."
   ]
  },
  {
   "cell_type": "code",
   "execution_count": 40,
   "metadata": {},
   "outputs": [
    {
     "name": "stdout",
     "output_type": "stream",
     "text": [
      "{'four': 4, 'three': 3, 'five': 5, 'two': 2, 'one': 1}\n",
      "{'four': 4, 'three': 3, 'five': 10, 'two': 2, 'one': 1}\n"
     ]
    }
   ],
   "source": [
    "D = {'one':1,'two':2,'three':3,'four':4}\n",
    "S ='five'\n",
    "D[S] = D.get(S,0) +5\n",
    "print D\n",
    "D[S] = D.get(S,0) +5\n",
    "print D"
   ]
  },
  {
   "cell_type": "code",
   "execution_count": null,
   "metadata": {},
   "outputs": [],
   "source": []
  }
 ],
 "metadata": {
  "kernelspec": {
   "display_name": "Python 2",
   "language": "python",
   "name": "python2"
  },
  "language_info": {
   "codemirror_mode": {
    "name": "ipython",
    "version": 2
   },
   "file_extension": ".py",
   "mimetype": "text/x-python",
   "name": "python",
   "nbconvert_exporter": "python",
   "pygments_lexer": "ipython2",
   "version": "2.7.6"
  }
 },
 "nbformat": 4,
 "nbformat_minor": 2
}
